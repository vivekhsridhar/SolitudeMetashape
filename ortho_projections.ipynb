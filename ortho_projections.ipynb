{
 "cells": [
  {
   "cell_type": "code",
   "execution_count": 1,
   "id": "999865d8",
   "metadata": {},
   "outputs": [],
   "source": [
    "import numpy as np\n",
    "import pandas as pd\n",
    "import matplotlib.pyplot as plt\n",
    "\n",
    "import os\n",
    "import cv2\n",
    "import math"
   ]
  },
  {
   "cell_type": "code",
   "execution_count": 2,
   "id": "ce221f1b",
   "metadata": {},
   "outputs": [],
   "source": [
    "folder_path = '/Users/vivekhsridhar/Library/Mobile Documents/com~apple~CloudDocs/Documents/Metashape/Solitude/'\n",
    "\n",
    "start = 0\n",
    "stop = 256\n",
    "step = stop // 12\n",
    "colours = [(r, 255, 255) for r in range(start, stop, step)]\n",
    "\n",
    "df = pd.read_csv('./output/points_uv.csv')"
   ]
  },
  {
   "cell_type": "code",
   "execution_count": 3,
   "id": "dedbc9d5",
   "metadata": {
    "scrolled": true
   },
   "outputs": [],
   "source": [
    "# Loop through unique camera labels in the DataFrame\n",
    "for cam in df['Camera'].unique():\n",
    "    # Subset dataframe\n",
    "    tmp = df.loc[df['Camera'] == cam, :]\n",
    "    \n",
    "    # Read the image\n",
    "    img_path = folder_path + 'images/' + tmp['video'].unique()[0] + '/' + cam + '.png'\n",
    "    img = cv2.imread(img_path)\n",
    "    \n",
    "    # Convert the image to HSV color space once before the loop\n",
    "    img = cv2.cvtColor(img, cv2.COLOR_BGR2HSV)\n",
    "\n",
    "    # Loop through points in tmp and draw circles on the image\n",
    "    for _, row in tmp.iterrows():\n",
    "        u = row['u']\n",
    "        v = row['v']\n",
    "\n",
    "        # Draw a circle at (u, v) with a radius of 5 and color based on point index\n",
    "        cv2.circle(img, (int(u), int(v)), 5, colours[row['Point']], -1)\n",
    "\n",
    "    # Convert the image back to BGR color space once after the loop\n",
    "    img = cv2.cvtColor(img, cv2.COLOR_HSV2BGR)\n",
    "    \n",
    "    # Save the modified image\n",
    "    save_folder = folder_path + 'output/' + tmp['video'].unique()[0] + '/'\n",
    "    os.makedirs(save_folder, exist_ok=True)  # Create directory if it doesn't exist\n",
    "    save_name = save_folder + cam + '.png' \n",
    "    cv2.imwrite(save_name, img)"
   ]
  },
  {
   "cell_type": "code",
   "execution_count": null,
   "id": "4d2f2b14",
   "metadata": {},
   "outputs": [],
   "source": []
  }
 ],
 "metadata": {
  "kernelspec": {
   "display_name": "Python 3 (ipykernel)",
   "language": "python",
   "name": "python3"
  },
  "language_info": {
   "codemirror_mode": {
    "name": "ipython",
    "version": 3
   },
   "file_extension": ".py",
   "mimetype": "text/x-python",
   "name": "python",
   "nbconvert_exporter": "python",
   "pygments_lexer": "ipython3",
   "version": "3.8.15"
  }
 },
 "nbformat": 4,
 "nbformat_minor": 5
}
